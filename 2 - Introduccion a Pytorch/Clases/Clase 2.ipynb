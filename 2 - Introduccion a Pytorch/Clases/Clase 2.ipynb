{
 "cells": [
  {
   "cell_type": "code",
   "execution_count": 17,
   "metadata": {},
   "outputs": [],
   "source": [
    "import torch\n",
    "import numpy as np\n",
    "import pandas as pd"
   ]
  },
  {
   "cell_type": "markdown",
   "metadata": {},
   "source": [
    "## Trabajando con tensores"
   ]
  },
  {
   "cell_type": "code",
   "execution_count": 2,
   "metadata": {},
   "outputs": [
    {
     "data": {
      "text/plain": [
       "'1.6.0'"
      ]
     },
     "execution_count": 2,
     "metadata": {},
     "output_type": "execute_result"
    }
   ],
   "source": [
    "torch.__version__"
   ]
  },
  {
   "cell_type": "code",
   "execution_count": 3,
   "metadata": {},
   "outputs": [
    {
     "data": {
      "text/plain": [
       "tensor([[1., 1.],\n",
       "        [1., 1.]])"
      ]
     },
     "execution_count": 3,
     "metadata": {},
     "output_type": "execute_result"
    }
   ],
   "source": [
    "# Construccion de un tensor de 1\n",
    "tensor_a = torch.ones(2, 2)\n",
    "tensor_a"
   ]
  },
  {
   "cell_type": "code",
   "execution_count": 4,
   "metadata": {},
   "outputs": [
    {
     "name": "stdout",
     "output_type": "stream",
     "text": [
      "tensor([[ 0.0000, 18.9802],\n",
      "        [ 0.0000,  0.0000]])\n"
     ]
    },
    {
     "data": {
      "text/plain": [
       "tensor([[0.0149, 0.3631],\n",
       "        [0.3151, 0.2437]])"
      ]
     },
     "execution_count": 4,
     "metadata": {},
     "output_type": "execute_result"
    }
   ],
   "source": [
    "# Tensor con valores aleatoreos con un bajo limite de decimales \n",
    "tensor_b = torch.Tensor(2,2)\n",
    "print(tensor_b)\n",
    "tensor_b.uniform_(0,1)  # Aletoreos entre 0 y 1 con 4 decimales"
   ]
  },
  {
   "cell_type": "code",
   "execution_count": 5,
   "metadata": {},
   "outputs": [
    {
     "data": {
      "text/plain": [
       "tensor([[0.6093, 0.7396],\n",
       "        [0.1816, 0.8911]])"
      ]
     },
     "execution_count": 5,
     "metadata": {},
     "output_type": "execute_result"
    }
   ],
   "source": [
    "# Aletoreos entre 0 y 1 con 4 decimales usando RAND\n",
    "tensor_c = torch.rand(2,2)\n",
    "tensor_c"
   ]
  },
  {
   "cell_type": "code",
   "execution_count": 6,
   "metadata": {},
   "outputs": [
    {
     "name": "stdout",
     "output_type": "stream",
     "text": [
      "torch.Size([2, 2])\n"
     ]
    },
    {
     "data": {
      "text/plain": [
       "tensor([[0.6093],\n",
       "        [0.7396],\n",
       "        [0.1816],\n",
       "        [0.8911]])"
      ]
     },
     "execution_count": 6,
     "metadata": {},
     "output_type": "execute_result"
    }
   ],
   "source": [
    "print(tensor_c.shape)  #Comando para ver las dimensiones que tiene el tensor\n",
    "reshaped = tensor_c.view(4,1)\n",
    "reshaped"
   ]
  },
  {
   "cell_type": "code",
   "execution_count": 7,
   "metadata": {},
   "outputs": [
    {
     "name": "stdout",
     "output_type": "stream",
     "text": [
      "tensor([[1, 2],\n",
      "        [3, 4]])\n",
      "tensor([[1, 2],\n",
      "        [3, 4]])\n",
      "tensor([[1, 6],\n",
      "        [3, 4]])\n"
     ]
    },
    {
     "data": {
      "text/plain": [
       " 1\n",
       " 6\n",
       " 3\n",
       " 4\n",
       "[torch.LongStorage of size 4]"
      ]
     },
     "execution_count": 7,
     "metadata": {},
     "output_type": "execute_result"
    }
   ],
   "source": [
    "points = torch.tensor([[1, 2], [3, 4]])   # puedo usar t minúscula ya que no quiero aleatorio.\n",
    "print(points)\n",
    "points[0][1]\n",
    "print(points)\n",
    "points[0][1] = 6.5\n",
    "print(points)\n",
    "points.storage()"
   ]
  },
  {
   "cell_type": "code",
   "execution_count": 8,
   "metadata": {},
   "outputs": [
    {
     "data": {
      "text/plain": [
       "(tensor([[1, 6],\n",
       "         [3, 4]]),\n",
       " (2, 1))"
      ]
     },
     "execution_count": 8,
     "metadata": {},
     "output_type": "execute_result"
    }
   ],
   "source": [
    "points, points.stride()"
   ]
  },
  {
   "cell_type": "code",
   "execution_count": 9,
   "metadata": {},
   "outputs": [
    {
     "data": {
      "text/plain": [
       "(tensor([[1, 3],\n",
       "         [6, 4]]),\n",
       " (1, 2))"
      ]
     },
     "execution_count": 9,
     "metadata": {},
     "output_type": "execute_result"
    }
   ],
   "source": [
    "p_t =points.t() #para la traspuesta\n",
    "p_t, p_t.stride()"
   ]
  },
  {
   "cell_type": "code",
   "execution_count": 10,
   "metadata": {},
   "outputs": [
    {
     "name": "stdout",
     "output_type": "stream",
     "text": [
      "tensor([1, 2, 3, 4])\n"
     ]
    },
    {
     "data": {
      "text/plain": [
       "tensor([[1],\n",
       "        [2],\n",
       "        [3],\n",
       "        [4]])"
      ]
     },
     "execution_count": 10,
     "metadata": {},
     "output_type": "execute_result"
    }
   ],
   "source": [
    "tensor_x = torch.tensor([1, 2, 3, 4])\n",
    "print(tensor_x)\n",
    "torch.unsqueeze(tensor_x, 0)\n",
    "torch.unsqueeze(tensor_x, 1)"
   ]
  },
  {
   "cell_type": "code",
   "execution_count": 11,
   "metadata": {},
   "outputs": [
    {
     "data": {
      "text/plain": [
       "tensor([[ 0.5130, -2.6239],\n",
       "        [-0.6426,  0.3833]], dtype=torch.float64)"
      ]
     },
     "execution_count": 11,
     "metadata": {},
     "output_type": "execute_result"
    }
   ],
   "source": [
    "numpyArray = np.random.randn(2, 2)\n",
    "torch.from_numpy(numpyArray)"
   ]
  },
  {
   "cell_type": "markdown",
   "metadata": {},
   "source": [
    "## Representando datos con tensores"
   ]
  },
  {
   "cell_type": "code",
   "execution_count": 13,
   "metadata": {},
   "outputs": [
    {
     "name": "stdout",
     "output_type": "stream",
     "text": [
      "tensor([[ 0.5130, -2.6239],\n",
      "        [-0.6426,  0.3833]], dtype=torch.float64)\n",
      "tensor(-0.5925, dtype=torch.float64)\n",
      "tensor([-0.0648, -1.1203], dtype=torch.float64)\n",
      "tensor([-1.0554, -0.1296], dtype=torch.float64)\n"
     ]
    }
   ],
   "source": [
    "from_numpy = torch.from_numpy(numpyArray)\n",
    "print(from_numpy)\n",
    "print(torch.mean(from_numpy))\n",
    "print(torch.mean(from_numpy, dim=0)) # Promedio de filas\n",
    "print(torch.mean(from_numpy, dim=1)) # Promedio de columnas"
   ]
  },
  {
   "cell_type": "code",
   "execution_count": 14,
   "metadata": {},
   "outputs": [
    {
     "data": {
      "text/plain": [
       "tensor([2.2181, 0.7254], dtype=torch.float64)"
      ]
     },
     "execution_count": 14,
     "metadata": {},
     "output_type": "execute_result"
    }
   ],
   "source": [
    "torch.std(from_numpy, dim=1) # Desviacion estandar de las columnas por separado"
   ]
  },
  {
   "cell_type": "code",
   "execution_count": 15,
   "metadata": {},
   "outputs": [],
   "source": [
    "torch.save(from_numpy, 'tensor.t') # Formas de guardar un archivo"
   ]
  },
  {
   "cell_type": "code",
   "execution_count": 16,
   "metadata": {},
   "outputs": [
    {
     "data": {
      "text/plain": [
       "tensor([[ 0.5130, -2.6239],\n",
       "        [-0.6426,  0.3833]], dtype=torch.float64)"
      ]
     },
     "execution_count": 16,
     "metadata": {},
     "output_type": "execute_result"
    }
   ],
   "source": [
    "load = torch.load('tensor.t')\n",
    "load"
   ]
  },
  {
   "cell_type": "code",
   "execution_count": 18,
   "metadata": {},
   "outputs": [
    {
     "data": {
      "text/html": [
       "<div>\n",
       "<style scoped>\n",
       "    .dataframe tbody tr th:only-of-type {\n",
       "        vertical-align: middle;\n",
       "    }\n",
       "\n",
       "    .dataframe tbody tr th {\n",
       "        vertical-align: top;\n",
       "    }\n",
       "\n",
       "    .dataframe thead th {\n",
       "        text-align: right;\n",
       "    }\n",
       "</style>\n",
       "<table border=\"1\" class=\"dataframe\">\n",
       "  <thead>\n",
       "    <tr style=\"text-align: right;\">\n",
       "      <th></th>\n",
       "      <th>Unnamed: 0</th>\n",
       "      <th>ID</th>\n",
       "      <th>Name</th>\n",
       "      <th>Age</th>\n",
       "      <th>Photo</th>\n",
       "      <th>Nationality</th>\n",
       "      <th>Flag</th>\n",
       "      <th>Overall</th>\n",
       "      <th>Potential</th>\n",
       "      <th>Club</th>\n",
       "      <th>...</th>\n",
       "      <th>Composure</th>\n",
       "      <th>Marking</th>\n",
       "      <th>StandingTackle</th>\n",
       "      <th>SlidingTackle</th>\n",
       "      <th>GKDiving</th>\n",
       "      <th>GKHandling</th>\n",
       "      <th>GKKicking</th>\n",
       "      <th>GKPositioning</th>\n",
       "      <th>GKReflexes</th>\n",
       "      <th>Release Clause</th>\n",
       "    </tr>\n",
       "  </thead>\n",
       "  <tbody>\n",
       "    <tr>\n",
       "      <th>0</th>\n",
       "      <td>0</td>\n",
       "      <td>158023</td>\n",
       "      <td>L. Messi</td>\n",
       "      <td>31</td>\n",
       "      <td>https://cdn.sofifa.org/players/4/19/158023.png</td>\n",
       "      <td>Argentina</td>\n",
       "      <td>https://cdn.sofifa.org/flags/52.png</td>\n",
       "      <td>94</td>\n",
       "      <td>94</td>\n",
       "      <td>FC Barcelona</td>\n",
       "      <td>...</td>\n",
       "      <td>96.0</td>\n",
       "      <td>33.0</td>\n",
       "      <td>28.0</td>\n",
       "      <td>26.0</td>\n",
       "      <td>6.0</td>\n",
       "      <td>11.0</td>\n",
       "      <td>15.0</td>\n",
       "      <td>14.0</td>\n",
       "      <td>8.0</td>\n",
       "      <td>€226.5M</td>\n",
       "    </tr>\n",
       "    <tr>\n",
       "      <th>1</th>\n",
       "      <td>1</td>\n",
       "      <td>20801</td>\n",
       "      <td>Cristiano Ronaldo</td>\n",
       "      <td>33</td>\n",
       "      <td>https://cdn.sofifa.org/players/4/19/20801.png</td>\n",
       "      <td>Portugal</td>\n",
       "      <td>https://cdn.sofifa.org/flags/38.png</td>\n",
       "      <td>94</td>\n",
       "      <td>94</td>\n",
       "      <td>Juventus</td>\n",
       "      <td>...</td>\n",
       "      <td>95.0</td>\n",
       "      <td>28.0</td>\n",
       "      <td>31.0</td>\n",
       "      <td>23.0</td>\n",
       "      <td>7.0</td>\n",
       "      <td>11.0</td>\n",
       "      <td>15.0</td>\n",
       "      <td>14.0</td>\n",
       "      <td>11.0</td>\n",
       "      <td>€127.1M</td>\n",
       "    </tr>\n",
       "    <tr>\n",
       "      <th>2</th>\n",
       "      <td>2</td>\n",
       "      <td>190871</td>\n",
       "      <td>Neymar Jr</td>\n",
       "      <td>26</td>\n",
       "      <td>https://cdn.sofifa.org/players/4/19/190871.png</td>\n",
       "      <td>Brazil</td>\n",
       "      <td>https://cdn.sofifa.org/flags/54.png</td>\n",
       "      <td>92</td>\n",
       "      <td>93</td>\n",
       "      <td>Paris Saint-Germain</td>\n",
       "      <td>...</td>\n",
       "      <td>94.0</td>\n",
       "      <td>27.0</td>\n",
       "      <td>24.0</td>\n",
       "      <td>33.0</td>\n",
       "      <td>9.0</td>\n",
       "      <td>9.0</td>\n",
       "      <td>15.0</td>\n",
       "      <td>15.0</td>\n",
       "      <td>11.0</td>\n",
       "      <td>€228.1M</td>\n",
       "    </tr>\n",
       "    <tr>\n",
       "      <th>3</th>\n",
       "      <td>3</td>\n",
       "      <td>193080</td>\n",
       "      <td>De Gea</td>\n",
       "      <td>27</td>\n",
       "      <td>https://cdn.sofifa.org/players/4/19/193080.png</td>\n",
       "      <td>Spain</td>\n",
       "      <td>https://cdn.sofifa.org/flags/45.png</td>\n",
       "      <td>91</td>\n",
       "      <td>93</td>\n",
       "      <td>Manchester United</td>\n",
       "      <td>...</td>\n",
       "      <td>68.0</td>\n",
       "      <td>15.0</td>\n",
       "      <td>21.0</td>\n",
       "      <td>13.0</td>\n",
       "      <td>90.0</td>\n",
       "      <td>85.0</td>\n",
       "      <td>87.0</td>\n",
       "      <td>88.0</td>\n",
       "      <td>94.0</td>\n",
       "      <td>€138.6M</td>\n",
       "    </tr>\n",
       "    <tr>\n",
       "      <th>4</th>\n",
       "      <td>4</td>\n",
       "      <td>192985</td>\n",
       "      <td>K. De Bruyne</td>\n",
       "      <td>27</td>\n",
       "      <td>https://cdn.sofifa.org/players/4/19/192985.png</td>\n",
       "      <td>Belgium</td>\n",
       "      <td>https://cdn.sofifa.org/flags/7.png</td>\n",
       "      <td>91</td>\n",
       "      <td>92</td>\n",
       "      <td>Manchester City</td>\n",
       "      <td>...</td>\n",
       "      <td>88.0</td>\n",
       "      <td>68.0</td>\n",
       "      <td>58.0</td>\n",
       "      <td>51.0</td>\n",
       "      <td>15.0</td>\n",
       "      <td>13.0</td>\n",
       "      <td>5.0</td>\n",
       "      <td>10.0</td>\n",
       "      <td>13.0</td>\n",
       "      <td>€196.4M</td>\n",
       "    </tr>\n",
       "  </tbody>\n",
       "</table>\n",
       "<p>5 rows × 89 columns</p>\n",
       "</div>"
      ],
      "text/plain": [
       "   Unnamed: 0      ID               Name  Age  \\\n",
       "0           0  158023           L. Messi   31   \n",
       "1           1   20801  Cristiano Ronaldo   33   \n",
       "2           2  190871          Neymar Jr   26   \n",
       "3           3  193080             De Gea   27   \n",
       "4           4  192985       K. De Bruyne   27   \n",
       "\n",
       "                                            Photo Nationality  \\\n",
       "0  https://cdn.sofifa.org/players/4/19/158023.png   Argentina   \n",
       "1   https://cdn.sofifa.org/players/4/19/20801.png    Portugal   \n",
       "2  https://cdn.sofifa.org/players/4/19/190871.png      Brazil   \n",
       "3  https://cdn.sofifa.org/players/4/19/193080.png       Spain   \n",
       "4  https://cdn.sofifa.org/players/4/19/192985.png     Belgium   \n",
       "\n",
       "                                  Flag  Overall  Potential  \\\n",
       "0  https://cdn.sofifa.org/flags/52.png       94         94   \n",
       "1  https://cdn.sofifa.org/flags/38.png       94         94   \n",
       "2  https://cdn.sofifa.org/flags/54.png       92         93   \n",
       "3  https://cdn.sofifa.org/flags/45.png       91         93   \n",
       "4   https://cdn.sofifa.org/flags/7.png       91         92   \n",
       "\n",
       "                  Club  ... Composure Marking StandingTackle  SlidingTackle  \\\n",
       "0         FC Barcelona  ...      96.0    33.0           28.0           26.0   \n",
       "1             Juventus  ...      95.0    28.0           31.0           23.0   \n",
       "2  Paris Saint-Germain  ...      94.0    27.0           24.0           33.0   \n",
       "3    Manchester United  ...      68.0    15.0           21.0           13.0   \n",
       "4      Manchester City  ...      88.0    68.0           58.0           51.0   \n",
       "\n",
       "  GKDiving  GKHandling  GKKicking  GKPositioning GKReflexes Release Clause  \n",
       "0      6.0        11.0       15.0           14.0        8.0        €226.5M  \n",
       "1      7.0        11.0       15.0           14.0       11.0        €127.1M  \n",
       "2      9.0         9.0       15.0           15.0       11.0        €228.1M  \n",
       "3     90.0        85.0       87.0           88.0       94.0        €138.6M  \n",
       "4     15.0        13.0        5.0           10.0       13.0        €196.4M  \n",
       "\n",
       "[5 rows x 89 columns]"
      ]
     },
     "execution_count": 18,
     "metadata": {},
     "output_type": "execute_result"
    }
   ],
   "source": [
    "url = \"https://raw.githubusercontent.com/amanthedorkknight/fifa18-all-player-statistics/master/2019/data.csv\"\n",
    "dataframe = pd.read_csv(url)\n",
    "dataframe.head(5)"
   ]
  },
  {
   "cell_type": "code",
   "execution_count": 19,
   "metadata": {},
   "outputs": [
    {
     "data": {
      "text/plain": [
       "Index(['Unnamed: 0', 'ID', 'Name', 'Age', 'Photo', 'Nationality', 'Flag',\n",
       "       'Overall', 'Potential', 'Club', 'Club Logo', 'Value', 'Wage', 'Special',\n",
       "       'Preferred Foot', 'International Reputation', 'Weak Foot',\n",
       "       'Skill Moves', 'Work Rate', 'Body Type', 'Real Face', 'Position',\n",
       "       'Jersey Number', 'Joined', 'Loaned From', 'Contract Valid Until',\n",
       "       'Height', 'Weight', 'LS', 'ST', 'RS', 'LW', 'LF', 'CF', 'RF', 'RW',\n",
       "       'LAM', 'CAM', 'RAM', 'LM', 'LCM', 'CM', 'RCM', 'RM', 'LWB', 'LDM',\n",
       "       'CDM', 'RDM', 'RWB', 'LB', 'LCB', 'CB', 'RCB', 'RB', 'Crossing',\n",
       "       'Finishing', 'HeadingAccuracy', 'ShortPassing', 'Volleys', 'Dribbling',\n",
       "       'Curve', 'FKAccuracy', 'LongPassing', 'BallControl', 'Acceleration',\n",
       "       'SprintSpeed', 'Agility', 'Reactions', 'Balance', 'ShotPower',\n",
       "       'Jumping', 'Stamina', 'Strength', 'LongShots', 'Aggression',\n",
       "       'Interceptions', 'Positioning', 'Vision', 'Penalties', 'Composure',\n",
       "       'Marking', 'StandingTackle', 'SlidingTackle', 'GKDiving', 'GKHandling',\n",
       "       'GKKicking', 'GKPositioning', 'GKReflexes', 'Release Clause'],\n",
       "      dtype='object')"
      ]
     },
     "execution_count": 19,
     "metadata": {},
     "output_type": "execute_result"
    }
   ],
   "source": [
    "dataframe.columns"
   ]
  },
  {
   "cell_type": "code",
   "execution_count": 20,
   "metadata": {},
   "outputs": [
    {
     "data": {
      "text/plain": [
       "(torch.Size([18159, 5]), 'torch.FloatTensor')"
      ]
     },
     "execution_count": 20,
     "metadata": {},
     "output_type": "execute_result"
    }
   ],
   "source": [
    "# Creacion de un sub-set de 18159 x 5\n",
    "subset = dataframe[['Overall','Age','International Reputation', 'Weak Foot',\n",
    "       'Skill Moves' ]].dropna(axis=0, how='any')\n",
    "\n",
    "columns = subset.columns[1:]\n",
    "players = torch.tensor(subset.values).float()\n",
    "players.shape, players.type()"
   ]
  },
  {
   "cell_type": "code",
   "execution_count": 21,
   "metadata": {},
   "outputs": [
    {
     "data": {
      "text/plain": [
       "(tensor([[31.,  5.,  4.,  4.],\n",
       "         [33.,  5.,  4.,  5.],\n",
       "         [26.,  5.,  5.,  5.],\n",
       "         ...,\n",
       "         [16.,  1.,  3.,  2.],\n",
       "         [17.,  1.,  3.,  2.],\n",
       "         [16.,  1.,  3.,  2.]]),\n",
       " torch.Size([18159, 4]))"
      ]
     },
     "execution_count": 21,
     "metadata": {},
     "output_type": "execute_result"
    }
   ],
   "source": [
    "data = players[:, 1:]\n",
    "data, data.shape"
   ]
  },
  {
   "cell_type": "code",
   "execution_count": 22,
   "metadata": {},
   "outputs": [
    {
     "data": {
      "text/plain": [
       "(tensor([94., 94., 92.,  ..., 47., 47., 46.]), torch.Size([18159]))"
      ]
     },
     "execution_count": 22,
     "metadata": {},
     "output_type": "execute_result"
    }
   ],
   "source": [
    "target = players[:, 0]\n",
    "target, target.shape"
   ]
  },
  {
   "cell_type": "code",
   "execution_count": 23,
   "metadata": {},
   "outputs": [
    {
     "data": {
      "text/plain": [
       "tensor([25.1225,  1.1132,  2.9473,  2.3613])"
      ]
     },
     "execution_count": 23,
     "metadata": {},
     "output_type": "execute_result"
    }
   ],
   "source": [
    "mean = torch.mean(data, dim=0)\n",
    "mean"
   ]
  },
  {
   "cell_type": "code",
   "execution_count": 24,
   "metadata": {},
   "outputs": [
    {
     "data": {
      "text/plain": [
       "tensor([4.6706, 0.3940, 0.6605, 0.7562])"
      ]
     },
     "execution_count": 24,
     "metadata": {},
     "output_type": "execute_result"
    }
   ],
   "source": [
    "std = torch.std(data, dim=0)\n",
    "std"
   ]
  },
  {
   "cell_type": "code",
   "execution_count": 25,
   "metadata": {},
   "outputs": [
    {
     "data": {
      "text/plain": [
       "tensor([[ 2.7196,  6.1919,  1.2953,  1.8845],\n",
       "        [ 3.6450,  6.1919,  1.2953,  3.0345],\n",
       "        [ 0.4060,  6.1919,  2.5258,  3.0345],\n",
       "        ...,\n",
       "        [-4.2211, -0.1804,  0.0648, -0.4155],\n",
       "        [-3.7584, -0.1804,  0.0648, -0.4155],\n",
       "        [-4.2211, -0.1804,  0.0648, -0.4155]])"
      ]
     },
     "execution_count": 25,
     "metadata": {},
     "output_type": "execute_result"
    }
   ],
   "source": [
    "norm = (data - mean)/torch.sqrt(std)\n",
    "norm"
   ]
  },
  {
   "cell_type": "code",
   "execution_count": 26,
   "metadata": {},
   "outputs": [
    {
     "name": "stdout",
     "output_type": "stream",
     "text": [
      "Age                        28.35  27.23  24.37\n",
      "International Reputation    3.38   1.36   1.01\n",
      "Weak Foot                   3.45   3.11   2.89\n",
      "Skill Moves                 3.04   2.75   2.22\n"
     ]
    }
   ],
   "source": [
    "# Obtencion de tablas con criterios,\n",
    "    # GE = [G]reater or [E]qual\n",
    "    # GT = [G]o [T]o\n",
    "    # LE = [L]ower or [E]qual\n",
    "\n",
    "good = data[torch.ge(target, 85)]\n",
    "average = data[torch.gt(target, 70) & torch.lt(target, 85)]\n",
    "notSoGood = data[torch.le(target, 70)]\n",
    "\n",
    "goodMean = torch.mean(good, dim=0)\n",
    "averageMean = torch.mean(average, dim=0)\n",
    "notSoGoodMean = torch.mean(notSoGood, dim=0)\n",
    "\n",
    "# goodMean, averageMean, notSoGoodMean\n",
    "\n",
    "# Zip para agrupar todos los argumentos e iterar\n",
    "for i, args in enumerate(zip(columns, goodMean, averageMean, notSoGoodMean)):\n",
    "  print('{:25} {:6.2f} {:6.2f} {:6.2f}'.format(*args))"
   ]
  },
  {
   "cell_type": "code",
   "execution_count": null,
   "metadata": {},
   "outputs": [],
   "source": []
  },
  {
   "cell_type": "code",
   "execution_count": null,
   "metadata": {},
   "outputs": [],
   "source": []
  },
  {
   "cell_type": "code",
   "execution_count": null,
   "metadata": {},
   "outputs": [],
   "source": []
  },
  {
   "cell_type": "code",
   "execution_count": null,
   "metadata": {},
   "outputs": [],
   "source": []
  },
  {
   "cell_type": "code",
   "execution_count": null,
   "metadata": {},
   "outputs": [],
   "source": []
  },
  {
   "cell_type": "code",
   "execution_count": null,
   "metadata": {},
   "outputs": [],
   "source": []
  }
 ],
 "metadata": {
  "kernelspec": {
   "display_name": "Python 3",
   "language": "python",
   "name": "python3"
  },
  "language_info": {
   "codemirror_mode": {
    "name": "ipython",
    "version": 3
   },
   "file_extension": ".py",
   "mimetype": "text/x-python",
   "name": "python",
   "nbconvert_exporter": "python",
   "pygments_lexer": "ipython3",
   "version": "3.7.0"
  }
 },
 "nbformat": 4,
 "nbformat_minor": 4
}
